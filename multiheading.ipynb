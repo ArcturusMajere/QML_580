{
 "cells": [
  {
   "cell_type": "code",
   "execution_count": null,
   "id": "3f05ae20",
   "metadata": {},
   "outputs": [],
   "source": [
    "# Combine total records and percentage diff under a common state heading\n",
    "count_total = count_total.set_index(['YR_QTR', 'STATE'])\n",
    "percent_diff = percent_diff.set_index(['YR_QTR', 'STATE'])\n",
    "\n",
    "# Concatenate the total records and percentage difference dataframes\n",
    "combined_df = pd.concat([count_total['TOTAL_RECORDS'], percent_diff['percent_diff']], axis=1)\n",
    "\n",
    "# Rename columns for clarity\n",
    "combined_df.columns = pd.MultiIndex.from_tuples([('TOTAL_RECORDS', 'Total Records'), ('PERCENT_DIFF', 'Percentage Difference')])\n",
    "\n",
    "# Reset the index if necessary to display 'YR_QTR' and 'STATE' as normal columns\n",
    "combined_df = combined_df.reset_index()\n",
    "\n",
    "# Fill missing values with 'X' if needed\n",
    "combined_df = combined_df.fillna('X')\n",
    "\n",
    "# Display the combined DataFrame\n",
    "combined_df\n"
   ]
  }
 ],
 "metadata": {
  "kernelspec": {
   "display_name": "Python 3 (ipykernel)",
   "language": "python",
   "name": "python3"
  },
  "language_info": {
   "codemirror_mode": {
    "name": "ipython",
    "version": 3
   },
   "file_extension": ".py",
   "mimetype": "text/x-python",
   "name": "python",
   "nbconvert_exporter": "python",
   "pygments_lexer": "ipython3",
   "version": "3.11.4"
  }
 },
 "nbformat": 4,
 "nbformat_minor": 5
}
