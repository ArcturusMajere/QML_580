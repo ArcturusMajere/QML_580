{
 "cells": [
  {
   "cell_type": "code",
   "execution_count": null,
   "id": "70830ec9",
   "metadata": {},
   "outputs": [],
   "source": [
    "import pandas as pd\n",
    "\n",
    "# Assuming df is your DataFrame\n",
    "\n",
    "# Get the current list of columns\n",
    "columns = df.columns\n",
    "\n",
    "# Separate columns into those ending with '_x' and '_y'\n",
    "x_columns = [col for col in columns if col.endswith('_x')]\n",
    "y_columns = [col for col in columns if col.endswith('_y')]\n",
    "\n",
    "# Create a new column order and rename _x to 'count' and _y to 'delta'\n",
    "new_column_order = []\n",
    "new_column_names = {}\n",
    "for x_col in x_columns:\n",
    "    state_name = x_col[:-2]  # remove the _x\n",
    "    new_x_name = state_name + '_count'\n",
    "    new_column_order.append(x_col)\n",
    "    new_column_names[x_col] = new_x_name\n",
    "    corresponding_y = state_name + '_y'\n",
    "    if corresponding_y in y_columns:\n",
    "        new_y_name = state_name + '_delta'\n",
    "        new_column_order.append(corresponding_y)\n",
    "        new_column_names[corresponding_y] = new_y_name\n",
    "\n",
    "# Preserve other columns that are not _x or _y\n",
    "non_xy_columns = [col for col in columns if col not in x_columns and col not in y_columns]\n",
    "final_column_order = non_xy_columns + new_column_order\n",
    "\n",
    "# Reorder the dataframe\n",
    "df_reordered = df[final_column_order]\n",
    "\n",
    "# Rename the columns\n",
    "df_reordered = df_reordered.rename(columns=new_column_names)\n",
    "\n",
    "# Display or save the reordered dataframe\n",
    "print(df_reordered)\n",
    "\n"
   ]
  }
 ],
 "metadata": {
  "kernelspec": {
   "display_name": "Python 3 (ipykernel)",
   "language": "python",
   "name": "python3"
  },
  "language_info": {
   "codemirror_mode": {
    "name": "ipython",
    "version": 3
   },
   "file_extension": ".py",
   "mimetype": "text/x-python",
   "name": "python",
   "nbconvert_exporter": "python",
   "pygments_lexer": "ipython3",
   "version": "3.11.4"
  }
 },
 "nbformat": 4,
 "nbformat_minor": 5
}
